{
 "cells": [
  {
   "cell_type": "code",
   "execution_count": 7,
   "id": "98058842",
   "metadata": {},
   "outputs": [
    {
     "name": "stdout",
     "output_type": "stream",
     "text": [
      "Time taken for PCA: 0.0019419193267822266\n",
      "Time taken for training: 0.032952070236206055\n",
      "Mean squared error: 2.591016548463357\n"
     ]
    }
   ],
   "source": [
    "# Load the data\n",
    "import pandas as pd\n",
    "import time\n",
    "df = pd.read_csv('C:\\ALL\\McMaster M.Eng. Study\\SEP 786 - Artificial Intelligence and Machine Learning Fundamentals (First Term)\\ObesityDataSet_raw_and_data_sinthetic.csv')\n",
    "\n",
    "# Check for missing values in the dataset\n",
    "df.isnull().sum()\n",
    "\n",
    "# Fill missing values with the mean\n",
    "numeric_cols = df.select_dtypes(include='number').columns\n",
    "df[numeric_cols] = df[numeric_cols].fillna(df[numeric_cols].mean())\n",
    "\n",
    "# Convert categorical variables to numerical using one-hot encoding\n",
    "df = pd.get_dummies(df, columns=['Gender', 'family_history_with_overweight', 'FAVC', 'CAEC', 'SMOKE', 'SCC', 'CALC', 'MTRANS'])\n",
    "\n",
    "# Convert the target variable to numerical using label encoding\n",
    "from sklearn.preprocessing import LabelEncoder\n",
    "le = LabelEncoder()\n",
    "df[\"NObeyesdad\"] = le.fit_transform(df[\"NObeyesdad\"])\n",
    "\n",
    "# Split the data into train and test sets\n",
    "from sklearn.model_selection import train_test_split\n",
    "X = df.drop(\"NObeyesdad\", axis=1)\n",
    "y = df[\"NObeyesdad\"]\n",
    "X_train, X_test, y_train, y_test = train_test_split(X, y, test_size=0.2, random_state=42)\n",
    "\n",
    "# Scale the data using StandardScaler\n",
    "from sklearn.preprocessing import StandardScaler\n",
    "scaler = StandardScaler()\n",
    "X_train_scaled = scaler.fit_transform(X_train)\n",
    "X_test_scaled = scaler.transform(X_test)\n",
    "\n",
    "# Perform PCA to reduce dimensionality of feature space\n",
    "pca = PCA(n_components=0.95)\n",
    "start_time_pca = time.time() # Start measuring computational time for PCA\n",
    "\n",
    "X_train_pca = pca.fit_transform(X_train_scaled)\n",
    "X_test_pca = pca.transform(X_test_scaled)\n",
    "\n",
    "end_time_pca = time.time() # End measuring computational time for PCA\n",
    "pca_time = end_time_pca - start_time_pca\n",
    "print(\"Time taken for PCA:\", pca_time)\n",
    "\n",
    "\n",
    "# Train a decision tree regression model on the PCA-transformed data\n",
    "dtr = DecisionTreeRegressor(random_state=42)\n",
    "start_time_train = time.time() # Start measuring computational time for training the model\n",
    "\n",
    "dtr.fit(X_train_pca, y_train)\n",
    "\n",
    "end_time_train = time.time() # End measuring computational time for training the model\n",
    "train_time = end_time_train - start_time_train\n",
    "print(\"Time taken for training:\", train_time)\n",
    "\n",
    "# Make predictions on the test set and evaluate the model\n",
    "y_pred = dtr.predict(X_test_pca)\n",
    "mse = mean_squared_error(y_test, y_pred)\n",
    "print(\"Mean squared error:\", mse)"
   ]
  },
  {
   "cell_type": "code",
   "execution_count": 3,
   "id": "7d125ac5",
   "metadata": {},
   "outputs": [
    {
     "name": "stdout",
     "output_type": "stream",
     "text": [
      "Confusion matrix:\n",
      " [[55  1  0  0  0  0  0]\n",
      " [ 4 58  0  0  0  0  0]\n",
      " [ 0 78  0  0  0  0  0]\n",
      " [ 0 58  0  0  0  0  0]\n",
      " [ 0 63  0  0  0  0  0]\n",
      " [ 0 56  0  0  0  0  0]\n",
      " [ 0 50  0  0  0  0  0]]\n"
     ]
    }
   ],
   "source": [
    "# Train a decision tree regression model on the scaled data\n",
    "from sklearn.tree import DecisionTreeRegressor\n",
    "dtr = DecisionTreeRegressor(random_state=42)\n",
    "dtr.fit(X_train_scaled, y_train)\n",
    "\n",
    "# Make predictions on the test set and convert them to binary values\n",
    "y_pred = dtr.predict(X_test_scaled)\n",
    "y_pred_binary = [1 if y >= 0.5 else 0 for y in y_pred]\n",
    "\n",
    "# Evaluate the model using confusion matrix\n",
    "from sklearn.metrics import confusion_matrix\n",
    "cm = confusion_matrix(y_test, y_pred_binary)\n",
    "print(\"Confusion matrix:\\n\", cm)\n"
   ]
  },
  {
   "cell_type": "code",
   "execution_count": 8,
   "id": "b03d0f42",
   "metadata": {},
   "outputs": [
    {
     "name": "stdout",
     "output_type": "stream",
     "text": [
      "Time taken for LDA: 0.006035804748535156\n",
      "Time taken for training: 0.002058744430541992\n",
      "Mean squared error: 0.8226950354609929\n"
     ]
    }
   ],
   "source": [
    "# Load the data\n",
    "import pandas as pd\n",
    "import time\n",
    "df = pd.read_csv('C:\\ALL\\McMaster M.Eng. Study\\SEP 786 - Artificial Intelligence and Machine Learning Fundamentals (First Term)\\ObesityDataSet_raw_and_data_sinthetic.csv')\n",
    "\n",
    "# Check for missing values in the dataset\n",
    "df.isnull().sum()\n",
    "\n",
    "# Fill missing values with the mean\n",
    "numeric_cols = df.select_dtypes(include='number').columns\n",
    "df[numeric_cols] = df[numeric_cols].fillna(df[numeric_cols].mean())\n",
    "\n",
    "# Convert categorical variables to numerical using one-hot encoding\n",
    "df = pd.get_dummies(df, columns=['Gender', 'family_history_with_overweight', 'FAVC', 'CAEC', 'SMOKE', 'SCC', 'CALC', 'MTRANS'])\n",
    "\n",
    "# Convert the target variable to numerical using label encoding\n",
    "from sklearn.preprocessing import LabelEncoder\n",
    "le = LabelEncoder()\n",
    "df[\"NObeyesdad\"] = le.fit_transform(df[\"NObeyesdad\"])\n",
    "\n",
    "# Split the data into train and test sets\n",
    "from sklearn.model_selection import train_test_split\n",
    "X = df.drop(\"NObeyesdad\", axis=1)\n",
    "y = df[\"NObeyesdad\"]\n",
    "X_train, X_test, y_train, y_test = train_test_split(X, y, test_size=0.2, random_state=42)\n",
    "\n",
    "# Scale the data using StandardScaler\n",
    "from sklearn.preprocessing import StandardScaler\n",
    "scaler = StandardScaler()\n",
    "X_train_scaled = scaler.fit_transform(X_train)\n",
    "X_test_scaled = scaler.transform(X_test)\n",
    "\n",
    "# Perform LDA to reduce dimensionality of feature space\n",
    "from sklearn.discriminant_analysis import LinearDiscriminantAnalysis as LDA\n",
    "lda = LDA(n_components=2) # set n_components as desired\n",
    "start_time_lda = time.time() # Start measuring computational time for LDA\n",
    "\n",
    "X_train_lda = lda.fit_transform(X_train_scaled, y_train)\n",
    "X_test_lda = lda.transform(X_test_scaled)\n",
    "\n",
    "end_time_lda = time.time() # End measuring computational time for LDA\n",
    "lda_time = end_time_lda - start_time_lda\n",
    "print(\"Time taken for LDA:\", lda_time)\n",
    "\n",
    "# Train a decision tree regression model on the LDA-transformed data\n",
    "from sklearn.tree import DecisionTreeRegressor\n",
    "dtr = DecisionTreeRegressor(random_state=42)\n",
    "start_time_train = time.time() # Start measuring computational time for training the model\n",
    "\n",
    "dtr.fit(X_train_lda, y_train)\n",
    "\n",
    "end_time_train = time.time() # End measuring computational time for training the model\n",
    "train_time = end_time_train - start_time_train\n",
    "print(\"Time taken for training:\", train_time)\n",
    "\n",
    "# Make predictions on the test set and evaluate the model\n",
    "from sklearn.metrics import mean_squared_error\n",
    "y_pred = dtr.predict(X_test_lda)\n",
    "mse = mean_squared_error(y_test, y_pred)\n",
    "print(\"Mean squared error:\", mse)\n"
   ]
  },
  {
   "cell_type": "code",
   "execution_count": 2,
   "id": "648bd6bf",
   "metadata": {},
   "outputs": [
    {
     "name": "stdout",
     "output_type": "stream",
     "text": [
      "Confusion matrix:\n",
      " [[55  1  0  0  0  0  0]\n",
      " [14 38  0  0  0 10  0]\n",
      " [ 0  0 71  5  0  0  2]\n",
      " [ 0  0  0 58  0  0  0]\n",
      " [ 0  0  0  0 63  0  0]\n",
      " [ 0  2  0  0  0 47  7]\n",
      " [ 0  0  1  0  0  3 46]]\n"
     ]
    }
   ],
   "source": [
    "# Make predictions on the test set and evaluate the model\n",
    "from sklearn.metrics import confusion_matrix\n",
    "y_pred = lda.predict(X_test_scaled)\n",
    "cm = confusion_matrix(y_test, y_pred)\n",
    "print(\"Confusion matrix:\\n\", cm)"
   ]
  },
  {
   "cell_type": "code",
   "execution_count": null,
   "id": "9cbe463d",
   "metadata": {},
   "outputs": [],
   "source": []
  }
 ],
 "metadata": {
  "kernelspec": {
   "display_name": "Python 3 (ipykernel)",
   "language": "python",
   "name": "python3"
  },
  "language_info": {
   "codemirror_mode": {
    "name": "ipython",
    "version": 3
   },
   "file_extension": ".py",
   "mimetype": "text/x-python",
   "name": "python",
   "nbconvert_exporter": "python",
   "pygments_lexer": "ipython3",
   "version": "3.9.13"
  }
 },
 "nbformat": 4,
 "nbformat_minor": 5
}
